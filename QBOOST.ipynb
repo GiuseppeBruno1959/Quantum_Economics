{
 "cells": [
  {
   "cell_type": "code",
   "execution_count": 6,
   "id": "attractive-tyler",
   "metadata": {},
   "outputs": [],
   "source": [
    "import numpy as np\n",
    "from sklearn.model_selection import train_test_split\n",
    "from sklearn.datasets import load_digits\n",
    "from sklearn.preprocessing import MinMaxScaler\n",
    "from sklearn.ensemble import GradientBoostingClassifier\n",
    "try:\n",
    "    import matplotlib.pyplot as plt\n",
    "except ImportError:\n",
    "    # Not required for demo\n",
    "    pass\n",
    "\n",
    "from qboost import QBoostClassifier, qboost_lambda_sweep\n",
    "from datasets import *\n",
    "import pandas as pd"
   ]
  },
  {
   "cell_type": "code",
   "execution_count": 2,
   "id": "handed-basin",
   "metadata": {},
   "outputs": [],
   "source": [
    "credit=pd.read_csv('German_Preprocessed.csv').sample(frac=1,random_state=3)\n",
    "credit=credit.groupby('classification').head(300).sample(frac=1,random_state=3)\n",
    "X, Y = credit.drop('classification',axis=1).values, credit.classification.squeeze().values\n",
    "#Y=[i if i ==1 else 0 for i in Y]\n",
    "id_dataset='GermanCredit'"
   ]
  },
  {
   "cell_type": "code",
   "execution_count": 3,
   "id": "broad-sense",
   "metadata": {},
   "outputs": [],
   "source": [
    "X_train=X[:500,:]\n",
    "X_test=X[500:,:]\n",
    "Y_train=Y[:500]\n",
    "Y_test=Y[500:]"
   ]
  },
  {
   "cell_type": "code",
   "execution_count": 6,
   "id": "persistent-warner",
   "metadata": {},
   "outputs": [],
   "source": [
    "n_features = np.size(X_train, 1)"
   ]
  },
  {
   "cell_type": "code",
   "execution_count": 7,
   "id": "attempted-intent",
   "metadata": {},
   "outputs": [],
   "source": [
    "normalized_lambdas = np.linspace(0.0, 0.5, 20)"
   ]
  },
  {
   "cell_type": "code",
   "execution_count": 8,
   "id": "blond-compatibility",
   "metadata": {},
   "outputs": [],
   "source": [
    "lambdas = normalized_lambdas / n_features"
   ]
  },
  {
   "cell_type": "code",
   "execution_count": 9,
   "id": "quick-analysis",
   "metadata": {},
   "outputs": [
    {
     "name": "stdout",
     "output_type": "stream",
     "text": [
      "lambda  n_features score:\n",
      "trial 1 for lambda 0.0 gave score 0.68\n",
      "trial 2 for lambda 0.0 gave score 0.78\n",
      "trial 3 for lambda 0.0 gave score 0.56\n",
      "0.0000  54         0.673 \n",
      "trial 1 for lambda 0.0004314063848144952 gave score 0.74\n",
      "trial 2 for lambda 0.0004314063848144952 gave score 0.72\n",
      "trial 3 for lambda 0.0004314063848144952 gave score 0.66\n",
      "0.0004  50         0.707 \n",
      "trial 1 for lambda 0.0008628127696289904 gave score 0.7\n",
      "trial 2 for lambda 0.0008628127696289904 gave score 0.64\n",
      "trial 3 for lambda 0.0008628127696289904 gave score 0.66\n",
      "0.0009  41         0.667 \n",
      "trial 1 for lambda 0.0012942191544434857 gave score 0.64\n",
      "trial 2 for lambda 0.0012942191544434857 gave score 0.62\n",
      "trial 3 for lambda 0.0012942191544434857 gave score 0.62\n",
      "0.0013  36         0.627 \n",
      "trial 1 for lambda 0.0017256255392579809 gave score 0.68\n",
      "trial 2 for lambda 0.0017256255392579809 gave score 0.76\n",
      "trial 3 for lambda 0.0017256255392579809 gave score 0.8\n",
      "0.0017  24         0.747 \n",
      "trial 1 for lambda 0.0021570319240724763 gave score 0.7\n",
      "trial 2 for lambda 0.0021570319240724763 gave score 0.78\n",
      "trial 3 for lambda 0.0021570319240724763 gave score 0.7\n",
      "0.0022  19         0.727 \n",
      "trial 1 for lambda 0.0025884383088869713 gave score 0.6\n",
      "trial 2 for lambda 0.0025884383088869713 gave score 0.82\n",
      "trial 3 for lambda 0.0025884383088869713 gave score 0.76\n",
      "0.0026  16         0.727 \n",
      "trial 1 for lambda 0.0030198446937014668 gave score 0.72\n",
      "trial 2 for lambda 0.0030198446937014668 gave score 0.7\n",
      "trial 3 for lambda 0.0030198446937014668 gave score 0.78\n",
      "0.0030  14         0.733 \n",
      "trial 1 for lambda 0.0034512510785159618 gave score 0.72\n",
      "trial 2 for lambda 0.0034512510785159618 gave score 0.66\n",
      "trial 3 for lambda 0.0034512510785159618 gave score 0.7\n",
      "0.0035  11         0.693 \n",
      "trial 1 for lambda 0.003882657463330457 gave score 0.7\n",
      "trial 2 for lambda 0.003882657463330457 gave score 0.76\n",
      "trial 3 for lambda 0.003882657463330457 gave score 0.68\n",
      "0.0039  9          0.713 \n",
      "trial 1 for lambda 0.004314063848144953 gave score 0.8\n",
      "trial 2 for lambda 0.004314063848144953 gave score 0.6\n",
      "trial 3 for lambda 0.004314063848144953 gave score 0.72\n",
      "0.0043  8          0.707 \n",
      "trial 1 for lambda 0.004745470232959448 gave score 0.72\n",
      "trial 2 for lambda 0.004745470232959448 gave score 0.56\n",
      "trial 3 for lambda 0.004745470232959448 gave score 0.66\n",
      "0.0047  4          0.647 \n",
      "trial 1 for lambda 0.005176876617773943 gave score 0.6\n",
      "trial 2 for lambda 0.005176876617773943 gave score 0.64\n",
      "trial 3 for lambda 0.005176876617773943 gave score 0.6\n",
      "0.0052  5          0.613 \n",
      "trial 1 for lambda 0.005608283002588438 gave score 0.6\n",
      "trial 2 for lambda 0.005608283002588438 gave score 0.7\n",
      "trial 3 for lambda 0.005608283002588438 gave score 0.62\n",
      "0.0056  4          0.640 \n",
      "trial 1 for lambda 0.0060396893874029335 gave score 0.6\n",
      "trial 2 for lambda 0.0060396893874029335 gave score 0.7\n",
      "trial 3 for lambda 0.0060396893874029335 gave score 0.68\n",
      "0.0060  3          0.660 \n",
      "trial 1 for lambda 0.0064710957722174285 gave score 0.54\n",
      "trial 2 for lambda 0.0064710957722174285 gave score 0.7\n",
      "trial 3 for lambda 0.0064710957722174285 gave score 0.54\n",
      "0.0065  2          0.593 \n",
      "trial 1 for lambda 0.0069025021570319235 gave score 0.64\n",
      "trial 2 for lambda 0.0069025021570319235 gave score 0.62\n",
      "trial 3 for lambda 0.0069025021570319235 gave score 0.66\n",
      "0.0069  2          0.640 \n",
      "trial 1 for lambda 0.0073339085418464185 gave score 0.6\n",
      "trial 2 for lambda 0.0073339085418464185 gave score 0.66\n",
      "trial 3 for lambda 0.0073339085418464185 gave score 0.64\n",
      "0.0073  2          0.633 \n",
      "trial 1 for lambda 0.007765314926660914 gave score 0.78\n",
      "trial 2 for lambda 0.007765314926660914 gave score 0.62\n",
      "trial 3 for lambda 0.007765314926660914 gave score 0.64\n",
      "0.0078  2          0.680 \n",
      "trial 1 for lambda 0.00819672131147541 gave score 0.6\n",
      "trial 2 for lambda 0.00819672131147541 gave score 0.66\n",
      "trial 3 for lambda 0.00819672131147541 gave score 0.72\n",
      "0.0082  1          0.660 \n"
     ]
    }
   ],
   "source": [
    "#cv-search on lambda parameter\n",
    "qboost, lam = qboost_lambda_sweep(\n",
    "    X_train, Y_train, lambdas, verbose=True)"
   ]
  },
  {
   "cell_type": "code",
   "execution_count": 11,
   "id": "contemporary-opening",
   "metadata": {},
   "outputs": [],
   "source": [
    "#fitting con il best parameter lambda = 0.00173\n",
    "qboost_final = QBoostClassifier(X_train, Y_train, 0.00173)"
   ]
  },
  {
   "cell_type": "code",
   "execution_count": 86,
   "id": "removable-marshall",
   "metadata": {},
   "outputs": [
    {
     "name": "stdout",
     "output_type": "stream",
     "text": [
      "Number of selected features: 22\n",
      "Selected features: [0, 1, 2, 4, 7, 8, 10, 15, 16, 17, 20, 26, 29, 30, 35, 38, 43, 46, 47, 49, 50, 51]\n",
      "Score on test set: 0.700\n"
     ]
    }
   ],
   "source": [
    "print('Number of selected features:',len(qboost_final.get_selected_features()))\n",
    "print('Selected features:',qboost_final.get_selected_features())\n",
    "print('Score on test set: {:.3f}'.format(qboost_final.score(X_test, Y_test)))"
   ]
  },
  {
   "cell_type": "markdown",
   "id": "unlike-holocaust",
   "metadata": {},
   "source": [
    "# Calcolo Reference Classica"
   ]
  },
  {
   "cell_type": "markdown",
   "id": "active-spring",
   "metadata": {},
   "source": [
    "## classic RF - best performance con random forest"
   ]
  },
  {
   "cell_type": "code",
   "execution_count": 7,
   "id": "painted-roots",
   "metadata": {},
   "outputs": [],
   "source": [
    "from sklearn.ensemble import RandomForestClassifier\n",
    "from sklearn.model_selection import GridSearchCV\n",
    "from sklearn.metrics import classification_report\n",
    "from sklearn.svm import SVC"
   ]
  },
  {
   "cell_type": "code",
   "execution_count": 71,
   "id": "union-occasion",
   "metadata": {},
   "outputs": [],
   "source": [
    "rfc = RandomForestClassifier()\n",
    "param_grid = {\n",
    "    'n_estimators': [20,50,100,150,200,500],\n",
    "    'max_depth' : [2,3,4,5,6,8,10],\n",
    "    'min_samples_split' : [1,2,3,5],\n",
    "    'bootstrap':[True,False]\n",
    "}"
   ]
  },
  {
   "cell_type": "code",
   "execution_count": 72,
   "id": "hundred-adobe",
   "metadata": {
    "collapsed": true
   },
   "outputs": [
    {
     "name": "stdout",
     "output_type": "stream",
     "text": [
      "Fitting 3 folds for each of 336 candidates, totalling 1008 fits\n"
     ]
    },
    {
     "name": "stderr",
     "output_type": "stream",
     "text": [
      "/home/opt/intelpython_2020.2/intelpython3/envs/qbit/lib/python3.8/site-packages/sklearn/model_selection/_search.py:918: UserWarning: One or more of the test scores are non-finite: [       nan        nan        nan        nan        nan        nan\n",
      " 0.67804151 0.71007383 0.69208571 0.70807782 0.70407378 0.69808576\n",
      " 0.66400933 0.69607772 0.70409783 0.69207368 0.6900416  0.69409374\n",
      " 0.6961138  0.68010966 0.70008176 0.70611788 0.69410576 0.69405767\n",
      "        nan        nan        nan        nan        nan        nan\n",
      " 0.66798932 0.69607772 0.70006974 0.69605368 0.7080658  0.70206575\n",
      " 0.66208547 0.68803357 0.69607772 0.69207368 0.69807373 0.69206166\n",
      " 0.69007768 0.69007768 0.69403362 0.7040858  0.69006565 0.69406969\n",
      "        nan        nan        nan        nan        nan        nan\n",
      " 0.68604959 0.69806171 0.69804968 0.70808984 0.70407378 0.70206575\n",
      " 0.68805762 0.70202968 0.70805377 0.71606185 0.6960176  0.6960657\n",
      " 0.69599356 0.68006156 0.70608181 0.70608181 0.70003367 0.71209388\n",
      "        nan        nan        nan        nan        nan        nan\n",
      " 0.6759974  0.68803357 0.7100618  0.70404973 0.69807373 0.70006974\n",
      " 0.68802155 0.6900416  0.71808191 0.70004569 0.7080658  0.70606979\n",
      " 0.69007768 0.71202174 0.71007383 0.69202559 0.70006974 0.70810187\n",
      "        nan        nan        nan        nan        nan        nan\n",
      " 0.6820215  0.71208186 0.6960176  0.7100618  0.71406584 0.71408989\n",
      " 0.70205372 0.71007383 0.71203376 0.71803381 0.70602169 0.71406584\n",
      " 0.71607388 0.68800952 0.70608181 0.7140418  0.70603372 0.7160859\n",
      "        nan        nan        nan        nan        nan        nan\n",
      " 0.69600558 0.71402977 0.7140418  0.70407378 0.70006974 0.7080177\n",
      " 0.70401366 0.7160378  0.71205781 0.72204988 0.72004184 0.71806988\n",
      " 0.67995335 0.71402977 0.71004978 0.70807782 0.70401366 0.71007383\n",
      "        nan        nan        nan        nan        nan        nan\n",
      " 0.69207368 0.69207368 0.69605368 0.70802972 0.71806988 0.72007792\n",
      " 0.70005772 0.70605776 0.71204579 0.7160378  0.70603372 0.70603372\n",
      " 0.68802155 0.72606594 0.72406993 0.72806195 0.7101099  0.72607796\n",
      "        nan        nan        nan        nan        nan        nan\n",
      " 0.6760936  0.70002164 0.67205348 0.68205757 0.68805762 0.68006156\n",
      " 0.66014958 0.69411779 0.6780896  0.68608566 0.68606161 0.67806556\n",
      " 0.68811774 0.67205348 0.68203352 0.70009379 0.68806964 0.68608566\n",
      "        nan        nan        nan        nan        nan        nan\n",
      " 0.65596518 0.66405743 0.67805353 0.68408965 0.70211384 0.6840656\n",
      " 0.68608566 0.68800952 0.70207777 0.69411779 0.68610971 0.69608975\n",
      " 0.65601327 0.70805377 0.68607364 0.69208571 0.68408965 0.68608566\n",
      "        nan        nan        nan        nan        nan        nan\n",
      " 0.69604165 0.69806171 0.69408172 0.68603756 0.69206166 0.69806171\n",
      " 0.70805377 0.71602578 0.71009788 0.70404973 0.70008176 0.69005363\n",
      " 0.68797345 0.70205372 0.69604165 0.68002549 0.69808576 0.69006565\n",
      "        nan        nan        nan        nan        nan        nan\n",
      " 0.69806171 0.67603348 0.69806171 0.70603372 0.69802564 0.69002958\n",
      " 0.67402544 0.70210182 0.69404564 0.69802564 0.70206575 0.70205372\n",
      " 0.67805353 0.68199745 0.69002958 0.69202559 0.7020417  0.69602963\n",
      "        nan        nan        nan        nan        nan        nan\n",
      " 0.69400957 0.71406584 0.7040858  0.70807782 0.69204964 0.70403771\n",
      " 0.70008176 0.69605368 0.70402568 0.71204579 0.7080658  0.69804968\n",
      " 0.70406176 0.69207368 0.70207777 0.68602554 0.69801361 0.70404973\n",
      "        nan        nan        nan        nan        nan        nan\n",
      " 0.69602963 0.72002982 0.69602963 0.73004593 0.71803381 0.71803381\n",
      " 0.70003367 0.71204579 0.71206984 0.70206575 0.71803381 0.70402568\n",
      " 0.71002573 0.71400572 0.70000962 0.7160378  0.71406584 0.71602578\n",
      "        nan        nan        nan        nan        nan        nan\n",
      " 0.68803357 0.71206984 0.71602578 0.72005387 0.7140418  0.71004978\n",
      " 0.68003752 0.69005363 0.69806171 0.70406176 0.7100618  0.71203376\n",
      " 0.69203761 0.69806171 0.72403386 0.7080658  0.7220619  0.71203376]\n",
      "  warnings.warn(\n"
     ]
    },
    {
     "data": {
      "text/plain": [
       "GridSearchCV(cv=3, estimator=RandomForestClassifier(), n_jobs=-1,\n",
       "             param_grid={'bootstrap': [True, False],\n",
       "                         'max_depth': [2, 3, 4, 5, 6, 8, 10],\n",
       "                         'min_samples_split': [1, 2, 3, 5],\n",
       "                         'n_estimators': [20, 50, 100, 150, 200, 500]},\n",
       "             refit='accuracy', scoring='accuracy', verbose=2)"
      ]
     },
     "execution_count": 72,
     "metadata": {},
     "output_type": "execute_result"
    }
   ],
   "source": [
    "search_rfc = GridSearchCV(rfc, param_grid,scoring='accuracy',refit='accuracy', n_jobs=-1,cv=3,verbose=2)\n",
    "search_rfc.fit(X_train, Y_train)"
   ]
  },
  {
   "cell_type": "code",
   "execution_count": 73,
   "id": "incorporated-voltage",
   "metadata": {},
   "outputs": [
    {
     "name": "stdout",
     "output_type": "stream",
     "text": [
      "Best parameter (CV score=0.730):\n",
      "{'bootstrap': False, 'max_depth': 8, 'min_samples_split': 2, 'n_estimators': 150}\n"
     ]
    }
   ],
   "source": [
    "print(\"Best parameter (CV score=%0.3f):\" % search_rfc.best_score_)\n",
    "print(search_rfc.best_params_)"
   ]
  },
  {
   "cell_type": "code",
   "execution_count": 89,
   "id": "sized-chicago",
   "metadata": {},
   "outputs": [
    {
     "name": "stdout",
     "output_type": "stream",
     "text": [
      "Random Forest Accuracy: 0.66\n"
     ]
    }
   ],
   "source": [
    "preds_rfc=search_rfc.predict(X_test)\n",
    "score_rf =sum([1 if (pred==tru) else 0 for pred, tru in zip(preds_rfc,Y_test)])/len(preds_rfc)\n",
    "print(f'Random Forest Accuracy: {score_rf}')"
   ]
  },
  {
   "cell_type": "markdown",
   "id": "uniform-daily",
   "metadata": {},
   "source": [
    "## Classic SVC - best performance con support vector classifier"
   ]
  },
  {
   "cell_type": "code",
   "execution_count": 76,
   "id": "trained-jackson",
   "metadata": {},
   "outputs": [],
   "source": [
    "minmax=MinMaxScaler()\n",
    "X_train_SVC = minmax.fit_transform(X_train)\n",
    "X_test_SVC = minmax.transform(X_test)"
   ]
  },
  {
   "cell_type": "code",
   "execution_count": 82,
   "id": "blind-italy",
   "metadata": {},
   "outputs": [],
   "source": [
    "svc = SVC()\n",
    "param_grid = {'C': [0.1,0.5,0.8,1,2, 5,10], 'gamma': [1,0.8,0.5,0.3,0.2,0.1,0.001, 0.0001], 'kernel': ['rbf']}"
   ]
  },
  {
   "cell_type": "code",
   "execution_count": 83,
   "id": "refined-review",
   "metadata": {},
   "outputs": [
    {
     "name": "stdout",
     "output_type": "stream",
     "text": [
      "Fitting 3 folds for each of 56 candidates, totalling 168 fits\n"
     ]
    },
    {
     "data": {
      "text/plain": [
       "GridSearchCV(cv=3, estimator=SVC(), n_jobs=-1,\n",
       "             param_grid={'C': [0.1, 0.5, 0.8, 1, 2, 5, 10],\n",
       "                         'gamma': [1, 0.8, 0.5, 0.3, 0.2, 0.1, 0.001, 0.0001],\n",
       "                         'kernel': ['rbf']},\n",
       "             refit='accuracy', scoring='accuracy', verbose=2)"
      ]
     },
     "execution_count": 83,
     "metadata": {},
     "output_type": "execute_result"
    }
   ],
   "source": [
    "search_svm = GridSearchCV(svc, param_grid,scoring='accuracy',refit='accuracy', n_jobs=-1,cv=3,verbose=2)\n",
    "search_svm.fit(X_train_SVC, Y_train)"
   ]
  },
  {
   "cell_type": "code",
   "execution_count": 84,
   "id": "raised-request",
   "metadata": {},
   "outputs": [
    {
     "name": "stdout",
     "output_type": "stream",
     "text": [
      "Best parameter (CV score=0.720):\n",
      "{'C': 1, 'gamma': 0.5, 'kernel': 'rbf'}\n"
     ]
    }
   ],
   "source": [
    "print(\"Best parameter (CV score=%0.3f):\" % search_svm.best_score_)\n",
    "print(search_svm.best_params_)"
   ]
  },
  {
   "cell_type": "code",
   "execution_count": 90,
   "id": "automotive-startup",
   "metadata": {},
   "outputs": [
    {
     "name": "stdout",
     "output_type": "stream",
     "text": [
      "Support Vector Classifier Accuracy: 0.65\n"
     ]
    }
   ],
   "source": [
    "preds_rfc=search_rfc.predict(X_test_SVC)\n",
    "score_svc=sum([1 if (pred==tru) else 0 for pred, tru in zip(preds_rfc,Y_test)])/len(preds_rfc)\n",
    "print(f'Support Vector Classifier Accuracy: {score_svc}')"
   ]
  },
  {
   "cell_type": "markdown",
   "id": "opened-prediction",
   "metadata": {},
   "source": [
    "# Gradient Boosting: Best performance con gradient boosting"
   ]
  },
  {
   "cell_type": "code",
   "execution_count": 16,
   "id": "alternate-therapy",
   "metadata": {},
   "outputs": [],
   "source": [
    "parameters = {\n",
    "    \"loss\":[\"deviance\"],\n",
    "    \"learning_rate\": [0.01, 0.05, 0.1,  0.2],\n",
    "    \"min_samples_split\": np.linspace(0.1, 0.5, 2),\n",
    "    #\"min_samples_leaf\": np.linspace(0.1, 0.5, 2),\n",
    "    \"max_depth\":[3,5,8],\n",
    "    \"max_features\":[\"log2\",\"sqrt\"],\n",
    "    \"criterion\": [\"friedman_mse\",  \"mae\"],\n",
    "    \"subsample\":[0.5,  0.8, 0.9, 1.0],\n",
    "    \"n_estimators\":[10,50,100]\n",
    "    }"
   ]
  },
  {
   "cell_type": "code",
   "execution_count": 8,
   "id": "musical-smart",
   "metadata": {},
   "outputs": [],
   "source": [
    "parameters = {\n",
    "    #\"loss\":[\"deviance\"],\n",
    "    \"learning_rate\": [0.01, 0.05, 0.1,  0.2,0.5],\n",
    "    \"min_samples_split\": np.linspace(0.01, 0.5, 8),\n",
    "    \"min_samples_leaf\": np.linspace(0.01, 0.5, 8),\n",
    "    \"max_depth\":[3,5,8],\n",
    "    \"max_features\":[\"log2\",\"sqrt\"],\n",
    "    \"criterion\": [\"friedman_mse\",  \"mse\"],\n",
    "    \"subsample\":[0.5,  0.8, 0.9, 1.0],\n",
    "    \"n_estimators\":[50,100,200,500,1000]\n",
    "    }"
   ]
  },
  {
   "cell_type": "code",
   "execution_count": 9,
   "id": "systematic-candy",
   "metadata": {},
   "outputs": [
    {
     "name": "stdout",
     "output_type": "stream",
     "text": [
      "Fitting 10 folds for each of 76800 candidates, totalling 768000 fits\n"
     ]
    },
    {
     "name": "stderr",
     "output_type": "stream",
     "text": [
      "[Parallel(n_jobs=-1)]: Using backend LokyBackend with 40 concurrent workers.\n",
      "[Parallel(n_jobs=-1)]: Done  48 tasks      | elapsed:   15.4s\n",
      "[Parallel(n_jobs=-1)]: Done 208 tasks      | elapsed:   18.4s\n",
      "[Parallel(n_jobs=-1)]: Done 432 tasks      | elapsed:   21.4s\n",
      "[Parallel(n_jobs=-1)]: Done 720 tasks      | elapsed:   24.9s\n",
      "[Parallel(n_jobs=-1)]: Done 1072 tasks      | elapsed:   29.9s\n",
      "[Parallel(n_jobs=-1)]: Done 1488 tasks      | elapsed:   35.3s\n",
      "[Parallel(n_jobs=-1)]: Done 1968 tasks      | elapsed:   42.8s\n",
      "[Parallel(n_jobs=-1)]: Done 2512 tasks      | elapsed:   49.0s\n",
      "[Parallel(n_jobs=-1)]: Done 3120 tasks      | elapsed:   56.9s\n",
      "[Parallel(n_jobs=-1)]: Done 3792 tasks      | elapsed:  1.1min\n",
      "[Parallel(n_jobs=-1)]: Done 4528 tasks      | elapsed:  1.2min\n",
      "[Parallel(n_jobs=-1)]: Done 5328 tasks      | elapsed:  1.4min\n",
      "[Parallel(n_jobs=-1)]: Done 6192 tasks      | elapsed:  1.6min\n",
      "[Parallel(n_jobs=-1)]: Done 7120 tasks      | elapsed:  1.7min\n",
      "[Parallel(n_jobs=-1)]: Done 8112 tasks      | elapsed:  1.9min\n",
      "[Parallel(n_jobs=-1)]: Done 9168 tasks      | elapsed:  2.1min\n",
      "[Parallel(n_jobs=-1)]: Done 10288 tasks      | elapsed:  2.3min\n",
      "[Parallel(n_jobs=-1)]: Done 11472 tasks      | elapsed:  2.5min\n",
      "[Parallel(n_jobs=-1)]: Done 12720 tasks      | elapsed:  2.7min\n",
      "[Parallel(n_jobs=-1)]: Done 14032 tasks      | elapsed:  3.0min\n",
      "[Parallel(n_jobs=-1)]: Done 15408 tasks      | elapsed:  3.3min\n",
      "[Parallel(n_jobs=-1)]: Done 16848 tasks      | elapsed:  3.7min\n",
      "[Parallel(n_jobs=-1)]: Done 18352 tasks      | elapsed:  4.0min\n",
      "[Parallel(n_jobs=-1)]: Done 19920 tasks      | elapsed:  4.3min\n",
      "[Parallel(n_jobs=-1)]: Done 21552 tasks      | elapsed:  4.6min\n",
      "[Parallel(n_jobs=-1)]: Done 23248 tasks      | elapsed:  4.9min\n",
      "[Parallel(n_jobs=-1)]: Done 25008 tasks      | elapsed:  5.2min\n",
      "[Parallel(n_jobs=-1)]: Done 26832 tasks      | elapsed:  5.6min\n",
      "[Parallel(n_jobs=-1)]: Done 28720 tasks      | elapsed:  6.0min\n",
      "[Parallel(n_jobs=-1)]: Done 30672 tasks      | elapsed:  6.4min\n",
      "[Parallel(n_jobs=-1)]: Done 32688 tasks      | elapsed:  6.8min\n",
      "[Parallel(n_jobs=-1)]: Done 34768 tasks      | elapsed:  7.2min\n",
      "[Parallel(n_jobs=-1)]: Done 36912 tasks      | elapsed:  7.6min\n",
      "[Parallel(n_jobs=-1)]: Done 39120 tasks      | elapsed:  8.0min\n",
      "[Parallel(n_jobs=-1)]: Done 41392 tasks      | elapsed:  8.6min\n",
      "[Parallel(n_jobs=-1)]: Done 43728 tasks      | elapsed:  9.1min\n",
      "[Parallel(n_jobs=-1)]: Done 46128 tasks      | elapsed:  9.5min\n",
      "[Parallel(n_jobs=-1)]: Done 48592 tasks      | elapsed: 10.0min\n",
      "[Parallel(n_jobs=-1)]: Done 51120 tasks      | elapsed: 10.4min\n",
      "[Parallel(n_jobs=-1)]: Done 53712 tasks      | elapsed: 11.1min\n",
      "[Parallel(n_jobs=-1)]: Done 56368 tasks      | elapsed: 11.7min\n",
      "[Parallel(n_jobs=-1)]: Done 59088 tasks      | elapsed: 12.2min\n",
      "[Parallel(n_jobs=-1)]: Done 61872 tasks      | elapsed: 12.7min\n",
      "[Parallel(n_jobs=-1)]: Done 64720 tasks      | elapsed: 13.3min\n",
      "[Parallel(n_jobs=-1)]: Done 67632 tasks      | elapsed: 14.0min\n",
      "[Parallel(n_jobs=-1)]: Done 70608 tasks      | elapsed: 14.6min\n",
      "[Parallel(n_jobs=-1)]: Done 73648 tasks      | elapsed: 15.2min\n",
      "[Parallel(n_jobs=-1)]: Done 76752 tasks      | elapsed: 15.7min\n",
      "[Parallel(n_jobs=-1)]: Done 79920 tasks      | elapsed: 16.4min\n",
      "[Parallel(n_jobs=-1)]: Done 83152 tasks      | elapsed: 17.1min\n",
      "[Parallel(n_jobs=-1)]: Done 86448 tasks      | elapsed: 17.7min\n",
      "[Parallel(n_jobs=-1)]: Done 89808 tasks      | elapsed: 18.3min\n",
      "[Parallel(n_jobs=-1)]: Done 93232 tasks      | elapsed: 19.1min\n",
      "[Parallel(n_jobs=-1)]: Done 96720 tasks      | elapsed: 19.8min\n",
      "[Parallel(n_jobs=-1)]: Done 100272 tasks      | elapsed: 20.4min\n",
      "[Parallel(n_jobs=-1)]: Done 103888 tasks      | elapsed: 21.2min\n",
      "[Parallel(n_jobs=-1)]: Done 107568 tasks      | elapsed: 22.0min\n",
      "[Parallel(n_jobs=-1)]: Done 111312 tasks      | elapsed: 22.6min\n",
      "[Parallel(n_jobs=-1)]: Done 115120 tasks      | elapsed: 23.3min\n",
      "[Parallel(n_jobs=-1)]: Done 118992 tasks      | elapsed: 24.3min\n",
      "[Parallel(n_jobs=-1)]: Done 122928 tasks      | elapsed: 25.0min\n",
      "[Parallel(n_jobs=-1)]: Done 126928 tasks      | elapsed: 25.7min\n",
      "[Parallel(n_jobs=-1)]: Done 130992 tasks      | elapsed: 26.8min\n",
      "[Parallel(n_jobs=-1)]: Done 135120 tasks      | elapsed: 27.6min\n",
      "[Parallel(n_jobs=-1)]: Done 139312 tasks      | elapsed: 28.3min\n",
      "[Parallel(n_jobs=-1)]: Done 143568 tasks      | elapsed: 29.4min\n",
      "[Parallel(n_jobs=-1)]: Done 147888 tasks      | elapsed: 30.2min\n",
      "[Parallel(n_jobs=-1)]: Done 152272 tasks      | elapsed: 31.0min\n",
      "[Parallel(n_jobs=-1)]: Done 156720 tasks      | elapsed: 31.9min\n",
      "[Parallel(n_jobs=-1)]: Done 161232 tasks      | elapsed: 32.8min\n",
      "[Parallel(n_jobs=-1)]: Done 165808 tasks      | elapsed: 33.6min\n",
      "[Parallel(n_jobs=-1)]: Done 170448 tasks      | elapsed: 34.6min\n",
      "[Parallel(n_jobs=-1)]: Done 175152 tasks      | elapsed: 35.5min\n",
      "[Parallel(n_jobs=-1)]: Done 179920 tasks      | elapsed: 36.5min\n",
      "[Parallel(n_jobs=-1)]: Done 184752 tasks      | elapsed: 37.5min\n",
      "[Parallel(n_jobs=-1)]: Done 189648 tasks      | elapsed: 38.4min\n",
      "[Parallel(n_jobs=-1)]: Done 194608 tasks      | elapsed: 39.5min\n",
      "[Parallel(n_jobs=-1)]: Done 199632 tasks      | elapsed: 40.5min\n",
      "[Parallel(n_jobs=-1)]: Done 204720 tasks      | elapsed: 41.4min\n",
      "[Parallel(n_jobs=-1)]: Done 209872 tasks      | elapsed: 42.7min\n",
      "[Parallel(n_jobs=-1)]: Done 215088 tasks      | elapsed: 43.6min\n",
      "[Parallel(n_jobs=-1)]: Done 220368 tasks      | elapsed: 44.9min\n",
      "[Parallel(n_jobs=-1)]: Done 225712 tasks      | elapsed: 45.9min\n",
      "[Parallel(n_jobs=-1)]: Done 231120 tasks      | elapsed: 46.9min\n",
      "[Parallel(n_jobs=-1)]: Done 236592 tasks      | elapsed: 48.1min\n",
      "[Parallel(n_jobs=-1)]: Done 242128 tasks      | elapsed: 49.1min\n",
      "[Parallel(n_jobs=-1)]: Done 247728 tasks      | elapsed: 50.3min\n",
      "[Parallel(n_jobs=-1)]: Done 253392 tasks      | elapsed: 51.3min\n",
      "[Parallel(n_jobs=-1)]: Done 259120 tasks      | elapsed: 52.5min\n",
      "[Parallel(n_jobs=-1)]: Done 264912 tasks      | elapsed: 53.7min\n",
      "[Parallel(n_jobs=-1)]: Done 270768 tasks      | elapsed: 54.9min\n",
      "[Parallel(n_jobs=-1)]: Done 276688 tasks      | elapsed: 56.2min\n",
      "[Parallel(n_jobs=-1)]: Done 282672 tasks      | elapsed: 57.6min\n",
      "[Parallel(n_jobs=-1)]: Done 288720 tasks      | elapsed: 59.0min\n",
      "[Parallel(n_jobs=-1)]: Done 294832 tasks      | elapsed: 60.2min\n",
      "[Parallel(n_jobs=-1)]: Done 301008 tasks      | elapsed: 61.8min\n",
      "[Parallel(n_jobs=-1)]: Done 307248 tasks      | elapsed: 62.9min\n",
      "[Parallel(n_jobs=-1)]: Done 313552 tasks      | elapsed: 64.2min\n",
      "[Parallel(n_jobs=-1)]: Done 319920 tasks      | elapsed: 65.3min\n",
      "[Parallel(n_jobs=-1)]: Done 326352 tasks      | elapsed: 66.7min\n",
      "[Parallel(n_jobs=-1)]: Done 332848 tasks      | elapsed: 67.9min\n",
      "[Parallel(n_jobs=-1)]: Done 339408 tasks      | elapsed: 69.3min\n",
      "[Parallel(n_jobs=-1)]: Done 346032 tasks      | elapsed: 70.6min\n",
      "[Parallel(n_jobs=-1)]: Done 352720 tasks      | elapsed: 72.0min\n",
      "[Parallel(n_jobs=-1)]: Done 359472 tasks      | elapsed: 73.4min\n",
      "[Parallel(n_jobs=-1)]: Done 366288 tasks      | elapsed: 74.8min\n",
      "[Parallel(n_jobs=-1)]: Done 373168 tasks      | elapsed: 76.3min\n",
      "[Parallel(n_jobs=-1)]: Done 380112 tasks      | elapsed: 77.7min\n",
      "[Parallel(n_jobs=-1)]: Done 387120 tasks      | elapsed: 79.1min\n",
      "[Parallel(n_jobs=-1)]: Done 394192 tasks      | elapsed: 80.4min\n",
      "[Parallel(n_jobs=-1)]: Done 401328 tasks      | elapsed: 81.9min\n",
      "[Parallel(n_jobs=-1)]: Done 408528 tasks      | elapsed: 83.2min\n",
      "[Parallel(n_jobs=-1)]: Done 415792 tasks      | elapsed: 84.8min\n",
      "[Parallel(n_jobs=-1)]: Done 423120 tasks      | elapsed: 86.2min\n",
      "[Parallel(n_jobs=-1)]: Done 430512 tasks      | elapsed: 87.7min\n",
      "[Parallel(n_jobs=-1)]: Done 437968 tasks      | elapsed: 89.4min\n",
      "[Parallel(n_jobs=-1)]: Done 445488 tasks      | elapsed: 90.8min\n",
      "[Parallel(n_jobs=-1)]: Done 453072 tasks      | elapsed: 92.5min\n",
      "[Parallel(n_jobs=-1)]: Done 460720 tasks      | elapsed: 93.9min\n",
      "[Parallel(n_jobs=-1)]: Done 468432 tasks      | elapsed: 95.5min\n",
      "[Parallel(n_jobs=-1)]: Done 476208 tasks      | elapsed: 97.0min\n",
      "[Parallel(n_jobs=-1)]: Done 484048 tasks      | elapsed: 98.5min\n",
      "[Parallel(n_jobs=-1)]: Done 491952 tasks      | elapsed: 100.2min\n",
      "[Parallel(n_jobs=-1)]: Done 499920 tasks      | elapsed: 101.7min\n",
      "[Parallel(n_jobs=-1)]: Done 507952 tasks      | elapsed: 103.4min\n",
      "[Parallel(n_jobs=-1)]: Done 516048 tasks      | elapsed: 105.1min\n"
     ]
    },
    {
     "name": "stderr",
     "output_type": "stream",
     "text": [
      "[Parallel(n_jobs=-1)]: Done 524208 tasks      | elapsed: 106.6min\n",
      "[Parallel(n_jobs=-1)]: Done 532432 tasks      | elapsed: 108.6min\n",
      "[Parallel(n_jobs=-1)]: Done 540720 tasks      | elapsed: 110.1min\n",
      "[Parallel(n_jobs=-1)]: Done 549072 tasks      | elapsed: 111.7min\n",
      "[Parallel(n_jobs=-1)]: Done 557488 tasks      | elapsed: 113.5min\n",
      "[Parallel(n_jobs=-1)]: Done 565968 tasks      | elapsed: 115.2min\n",
      "[Parallel(n_jobs=-1)]: Done 574512 tasks      | elapsed: 116.8min\n",
      "[Parallel(n_jobs=-1)]: Done 583120 tasks      | elapsed: 118.7min\n",
      "[Parallel(n_jobs=-1)]: Done 591792 tasks      | elapsed: 120.5min\n",
      "[Parallel(n_jobs=-1)]: Done 600528 tasks      | elapsed: 122.1min\n",
      "[Parallel(n_jobs=-1)]: Done 609328 tasks      | elapsed: 124.1min\n",
      "[Parallel(n_jobs=-1)]: Done 618192 tasks      | elapsed: 125.8min\n",
      "[Parallel(n_jobs=-1)]: Done 627120 tasks      | elapsed: 127.5min\n",
      "[Parallel(n_jobs=-1)]: Done 636112 tasks      | elapsed: 129.3min\n",
      "[Parallel(n_jobs=-1)]: Done 645168 tasks      | elapsed: 131.2min\n",
      "[Parallel(n_jobs=-1)]: Done 654288 tasks      | elapsed: 133.0min\n",
      "[Parallel(n_jobs=-1)]: Done 663472 tasks      | elapsed: 134.9min\n",
      "[Parallel(n_jobs=-1)]: Done 672720 tasks      | elapsed: 136.9min\n",
      "[Parallel(n_jobs=-1)]: Done 682032 tasks      | elapsed: 139.0min\n",
      "[Parallel(n_jobs=-1)]: Done 691408 tasks      | elapsed: 140.8min\n",
      "[Parallel(n_jobs=-1)]: Done 700848 tasks      | elapsed: 142.7min\n",
      "[Parallel(n_jobs=-1)]: Done 710352 tasks      | elapsed: 144.6min\n",
      "[Parallel(n_jobs=-1)]: Done 719920 tasks      | elapsed: 146.5min\n",
      "[Parallel(n_jobs=-1)]: Done 729552 tasks      | elapsed: 148.3min\n",
      "[Parallel(n_jobs=-1)]: Done 739248 tasks      | elapsed: 150.4min\n",
      "[Parallel(n_jobs=-1)]: Done 749008 tasks      | elapsed: 152.5min\n",
      "[Parallel(n_jobs=-1)]: Done 758832 tasks      | elapsed: 154.6min\n",
      "[Parallel(n_jobs=-1)]: Done 768000 out of 768000 | elapsed: 156.3min finished\n"
     ]
    },
    {
     "data": {
      "text/plain": [
       "GridSearchCV(cv=10, estimator=GradientBoostingClassifier(), n_jobs=-1,\n",
       "             param_grid={'criterion': ['friedman_mse', 'mse'],\n",
       "                         'learning_rate': [0.01, 0.05, 0.1, 0.2, 0.5],\n",
       "                         'max_depth': [3, 5, 8],\n",
       "                         'max_features': ['log2', 'sqrt'],\n",
       "                         'min_samples_leaf': array([0.01, 0.08, 0.15, 0.22, 0.29, 0.36, 0.43, 0.5 ]),\n",
       "                         'min_samples_split': array([0.01, 0.08, 0.15, 0.22, 0.29, 0.36, 0.43, 0.5 ]),\n",
       "                         'n_estimators': [50, 100, 200, 500, 1000],\n",
       "                         'subsample': [0.5, 0.8, 0.9, 1.0]},\n",
       "             verbose=3)"
      ]
     },
     "execution_count": 9,
     "metadata": {},
     "output_type": "execute_result"
    }
   ],
   "source": [
    "search_gb = GridSearchCV(GradientBoostingClassifier(), parameters, cv=10, n_jobs=-1,verbose=3)\n",
    "\n",
    "search_gb.fit(X_train, Y_train)"
   ]
  },
  {
   "cell_type": "code",
   "execution_count": 57,
   "id": "broken-feeding",
   "metadata": {},
   "outputs": [
    {
     "name": "stdout",
     "output_type": "stream",
     "text": [
      "Best parameter (CV score=0.742):\n",
      "{'criterion': 'friedman_mse', 'learning_rate': 0.2, 'max_depth': 3, 'max_features': 'log2', 'min_samples_leaf': 0.01, 'min_samples_split': 0.15, 'n_estimators': 50, 'subsample': 0.5}\n"
     ]
    }
   ],
   "source": [
    "print(\"Best parameter (CV score=%0.3f):\" % search_gb.best_score_)\n",
    "print(search_gb.best_params_)"
   ]
  },
  {
   "cell_type": "code",
   "execution_count": 58,
   "id": "joint-mapping",
   "metadata": {},
   "outputs": [
    {
     "name": "stdout",
     "output_type": "stream",
     "text": [
      "Gradient Boosting Accuracy: 0.71\n"
     ]
    }
   ],
   "source": [
    "preds_gb=search_gb.predict(X_test)\n",
    "score_gb=sum([1 if (pred==tru) else 0 for pred, tru in zip(preds_gb,Y_test)])/len(preds_gb)\n",
    "print(f'Gradient Boosting Accuracy: {score_gb}')"
   ]
  }
 ],
 "metadata": {
  "kernelspec": {
   "display_name": "Python 3",
   "language": "python",
   "name": "python3"
  },
  "language_info": {
   "codemirror_mode": {
    "name": "ipython",
    "version": 3
   },
   "file_extension": ".py",
   "mimetype": "text/x-python",
   "name": "python",
   "nbconvert_exporter": "python",
   "pygments_lexer": "ipython3",
   "version": "3.7.9"
  }
 },
 "nbformat": 4,
 "nbformat_minor": 5
}
